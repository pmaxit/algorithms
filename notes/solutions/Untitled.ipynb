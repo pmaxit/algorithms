{
 "cells": [
  {
   "cell_type": "markdown",
   "metadata": {},
   "source": [
    "# Chapter 33\n",
    "\n",
    "### Solution 35.1\n",
    "\n",
    "P1 x P2 shows the area of parallelogram along with the sign of area.\n",
    "\n",
    "### Solution 35.2\n",
    "Sorting points with respect to a point.\n",
    "\n",
    "Use Sorting with following boolean function\n",
    "\n",
    "```\n",
    "bool compare(P1, P2){\n",
    "  if(p1.y>=0 && p2.y<0) return true;\n",
    "  if (p1.y<=0 && p2.y>=0) return false;\n",
    "  return sign(p1 X P2 ) > 0\n",
    "}\n",
    "\n",
    "where cross product is defined as\n",
    "P1.x * p2.y - P2.x * p1.y\n",
    "```\n",
    "\n",
    "### Question\n",
    "Given a convex polygon and point check whether this point lies inside a polygon or not.\n",
    "\n",
    "Algorithm 1)\n",
    "\n",
    "* Assuming points are given in sorted order. [P0, P1, P2, .. Pn-1 ]\n",
    "*  Simply divide points in half and check which half contains the point\n",
    "    * Simply connect point 0 with point MID\n",
    "    * Check if point lies above or below the line. This can be done using cross product.\n",
    "    * Choose side where point lies and recurse for rest of the polygon.\n",
    "* In the end only 3 vertices will remain. Simply do brute force check if point lies inside the triangle or not.\n",
    "\n",
    "BRUTE FORCE check\n",
    "For all sides of polygon, simply check if point contains only on one side. ( using cross product )\n",
    "\n",
    "Algorithm 2)\n",
    "\n",
    "* Assume any interior point inside a convex polygon.\n",
    "* Say it centroid or mid of two points.\n",
    "* divide it triangular regions using that point.\n",
    "* Using binary search find which triangular region contains the point\n",
    "* Using above triangle check find if point lies inside the triangle or outside.\n",
    "\n",
    "\n",
    "## Online Algorithm to update Convex hull\n",
    "    Input : Convex hull ( Points in sorted order from reference point P0) and new point to be added.\n",
    "\n",
    "    Output : Convex hull of overall points.\n",
    "\n",
    "### Algorithm:\n",
    "\n",
    "1. Start from reference point.\n",
    "\n",
    "2. Check if $ p_i , p_{i+1} , p_k $ is left turn or not?\n",
    "\n",
    "3. if don't find any right turn, then point is interior\n",
    "\n",
    "4. Say we find i where $ p_i, p_{i+1}, p_k $ is right turn\n",
    "\n",
    "5. Continue and find j such that $ p_j, p_{j+1}, p_k $ is left turn.\n",
    "\n",
    "6. Return new convex polygon points such that. $ p_j, p_{j+1}....  p_i , p_k $\n"
   ]
  },
  {
   "cell_type": "markdown",
   "metadata": {
    "slideshow": {
     "slide_type": "slide"
    }
   },
   "source": [
    "Online convex hull Algorithm. It computes convex hull in incremental fashion."
   ]
  }
 ],
 "metadata": {
  "kernelspec": {
   "display_name": "Python 3",
   "language": "python",
   "name": "python3"
  },
  "language_info": {
   "codemirror_mode": {
    "name": "ipython",
    "version": 3
   },
   "file_extension": ".py",
   "mimetype": "text/x-python",
   "name": "python",
   "nbconvert_exporter": "python",
   "pygments_lexer": "ipython3",
   "version": "3.4.3"
  }
 },
 "nbformat": 4,
 "nbformat_minor": 0
}
